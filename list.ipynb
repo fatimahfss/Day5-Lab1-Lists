{
  "nbformat": 4,
  "nbformat_minor": 0,
  "metadata": {
    "colab": {
      "name": "Untitled1.ipynb",
      "provenance": []
    },
    "kernelspec": {
      "name": "python3",
      "display_name": "Python 3"
    },
    "language_info": {
      "name": "python"
    }
  },
  "cells": [
    {
      "cell_type": "code",
      "source": [
        "lst=[5, 4, 17, 19, 30, 2, 7, 10, 45]\n",
        "sum=0\n",
        "for i in lst:\n",
        "  sum+=i\n",
        "print(sum)\n",
        "lst.sort\n",
        "print(\"Largest number is:\", lst[-1])\n",
        "Even=[i for i in lst if i%2 ==0]\n",
        "print(Even)\n",
        "lst2=lst[:5]\n",
        "print(lst2)"
      ],
      "metadata": {
        "colab": {
          "base_uri": "https://localhost:8080/"
        },
        "id": "nK7v74x73X1B",
        "outputId": "1b46059d-6230-4b22-a68a-fd3ce375f158"
      },
      "execution_count": 44,
      "outputs": [
        {
          "output_type": "stream",
          "name": "stdout",
          "text": [
            "139\n",
            "Largest number is: 45\n",
            "[4, 30, 2, 10]\n",
            "[5, 4, 17, 19, 30, 2]\n"
          ]
        }
      ]
    },
    {
      "cell_type": "code",
      "source": [
        ""
      ],
      "metadata": {
        "id": "DW_AAiJ03X8v"
      },
      "execution_count": null,
      "outputs": []
    }
  ]
}